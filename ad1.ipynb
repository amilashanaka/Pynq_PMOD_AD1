{
 "cells": [
  {
   "cell_type": "code",
   "execution_count": 3,
   "metadata": {},
   "outputs": [],
   "source": [
    "from pynq import Overlay\n",
    "from pynq.lib.pmod import Pmod_ADC\n",
    "import time\n",
    "\n",
    "# Load the bitstream (Make sure the bitstream contains the required SPI IP)\n",
    "overlay = Overlay(\"ad1.bit\")\n"
   ]
  },
  {
   "cell_type": "code",
   "execution_count": 4,
   "metadata": {},
   "outputs": [
    {
     "name": "stdout",
     "output_type": "stream",
     "text": [
      "dict_keys(['PmodAD1_0'])\n"
     ]
    }
   ],
   "source": [
    "print(overlay.ip_dict.keys())\n"
   ]
  },
  {
   "cell_type": "code",
   "execution_count": 5,
   "metadata": {},
   "outputs": [],
   "source": [
    "adc_ip = overlay.PmodAD1_0\n",
    "\n"
   ]
  },
  {
   "cell_type": "code",
   "execution_count": null,
   "metadata": {},
   "outputs": [],
   "source": []
  },
  {
   "cell_type": "code",
   "execution_count": 6,
   "metadata": {},
   "outputs": [],
   "source": [
    "adc_ip = overlay.PmodAD1_0\n",
    "\n",
    "# Function to read data from the ADC channels\n",
    "def read_adc(channel):\n",
    "    # Example register addresses (adjust these according to your design)\n",
    "    register_address = 0x00 + (channel * 0x02)  # Ensure channel data is aligned to 4-byte boundary\n",
    "    data = adc_ip.mmio.read(0)  # Read channel-specific data\n",
    "    return data\n",
    "\n",
    "# Function to read data from both channels of PMOD AD1\n",
    "def read_pmod_adc():\n",
    "    for _ in range(100):  # Take 10 readings as an example\n",
    "        # Read from channel 0 and channel 1\n",
    "        value_channel_0 = read_adc(0)  # Read from Channel 0\n",
    "        \n",
    "        # Print the values from both channels\n",
    "        print(value_channel_0//100000)\n",
    "        \n",
    "        # Sleep for 1 second between readings\n",
    "        time.sleep(0.1)\n",
    "\n",
    "# Call the function to start reading data from the ADC\n",
    "\n"
   ]
  },
  {
   "cell_type": "code",
   "execution_count": 11,
   "metadata": {},
   "outputs": [
    {
     "data": {
      "image/png": "[encoded data removed]",
      "text/plain": [
       "<matplotlib.figure.Figure at 0xae6676d0>"
      ]
     },
     "metadata": {},
     "output_type": "display_data"
    }
   ],
   "source": [
    "import time\n",
    "import matplotlib.pyplot as plt\n",
    "\n",
    "# Assuming adc_ip.mmio.read(0) returns a value for the given channel\n",
    "def read_adc(channel):\n",
    "    # Example register addresses (adjust these according to your design)\n",
    "    register_address = 0x00 + (channel * 0x01)  # Ensure channel data is aligned to 4-byte boundary\n",
    "    data = adc_ip.mmio.read(register_address)  # Read channel-specific data\n",
    "    return data\n",
    "\n",
    "# Function to read data from both channels of PMOD AD1 and plot it\n",
    "def read_pmod_adc():\n",
    "    values_channel_0 = []  # List to store Channel 0 readings\n",
    "\n",
    "    for _ in range(100):  # Take 100 readings\n",
    "        # Read from channel 0\n",
    "        value_channel_0 = read_adc(0)  # Read from Channel 0\n",
    "        value_channel_0_scaled = value_channel_0//10000   # Scale the value for readability\n",
    "\n",
    "        # Append the value to the list\n",
    "        values_channel_0.append(value_channel_0_scaled)\n",
    "\n",
    "        # Print the value from Channel 0\n",
    "#         print(value_channel_0_scaled)\n",
    "        \n",
    "        # Sleep for 0.1 seconds between readings\n",
    "        time.sleep(0.1)\n",
    "\n",
    "    # Plot the collected data\n",
    "    plt.plot(values_channel_0)\n",
    "    plt.title('ADC Channel 0 Data Plot')\n",
    "    plt.xlabel('Reading Index')\n",
    "    plt.ylabel('Value (Scaled)')\n",
    "    plt.grid(True)\n",
    "    plt.show()\n",
    "\n",
    "# Call the function to start reading data and plot it\n",
    "read_pmod_adc()\n"
   ]
  },
  {
   "cell_type": "code",
   "execution_count": null,
   "metadata": {},
   "outputs": [],
   "source": []
  }
 ],
 "metadata": {
  "kernelspec": {
   "display_name": "Python 3",
   "language": "python",
   "name": "python3"
  },
  "language_info": {
   "codemirror_mode": {
    "name": "ipython",
    "version": 3
   },
   "file_extension": ".py",
   "mimetype": "text/x-python",
   "name": "python",
   "nbconvert_exporter": "python",
   "pygments_lexer": "ipython3",
   "version": "3.6.5"
  }
 },
 "nbformat": 4,
 "nbformat_minor": 2
}
